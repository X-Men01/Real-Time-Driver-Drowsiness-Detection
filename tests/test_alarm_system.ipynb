{
 "cells": [
  {
   "cell_type": "code",
   "execution_count": 18,
   "metadata": {},
   "outputs": [],
   "source": [
    "import playsound\n",
    "\n",
    "class AlarmSystem:\n",
    "    def __init__(self):\n",
    "        self.alarm_file = '../assets/alarm_sound.mp3'\n",
    "\n",
    "    def trigger_alarm(self):\n",
    "        print(\"Drowsiness detected! Triggering alarm...\")\n",
    "        playsound.playsound(self.alarm_file)"
   ]
  },
  {
   "cell_type": "code",
   "execution_count": 19,
   "metadata": {},
   "outputs": [
    {
     "name": "stdout",
     "output_type": "stream",
     "text": [
      "Drowsiness detected! Triggering alarm...\n"
     ]
    }
   ],
   "source": [
    "alarm = AlarmSystem()\n",
    "alarm.trigger_alarm()"
   ]
  },
  {
   "cell_type": "code",
   "execution_count": null,
   "metadata": {},
   "outputs": [],
   "source": []
  }
 ],
 "metadata": {
  "kernelspec": {
   "display_name": "base",
   "language": "python",
   "name": "python3"
  },
  "language_info": {
   "codemirror_mode": {
    "name": "ipython",
    "version": 3
   },
   "file_extension": ".py",
   "mimetype": "text/x-python",
   "name": "python",
   "nbconvert_exporter": "python",
   "pygments_lexer": "ipython3",
   "version": "3.12.2"
  }
 },
 "nbformat": 4,
 "nbformat_minor": 2
}
